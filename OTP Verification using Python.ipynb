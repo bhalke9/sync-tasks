{
 "cells": [
  {
   "cell_type": "code",
   "execution_count": 11,
   "id": "4b719185",
   "metadata": {},
   "outputs": [],
   "source": [
    "#importing required libraries\n",
    "import os\n",
    "import math\n",
    "import random\n",
    "import smtplib"
   ]
  },
  {
   "cell_type": "code",
   "execution_count": 12,
   "id": "7e2d8529",
   "metadata": {},
   "outputs": [],
   "source": [
    "'''num = \"0123456789\"\n",
    "val = \"\"\n",
    "for i in range(0,6):\n",
    "    val += num[math.floor(random.random()*10)]\n",
    "OTP = val + \"is your One-time-password for verification\"\n",
    "message = OTP'''\n",
    "\n",
    "\n",
    "\n",
    "val=''\n",
    "for i in range(4):\n",
    "    val+=str(random.randint(0,9))\n",
    "OTP = val + \" \" + \"is your One-time-password for verification\"\n",
    "message = OTP"
   ]
  },
  {
   "cell_type": "code",
   "execution_count": 13,
   "id": "7b5bc997",
   "metadata": {},
   "outputs": [
    {
     "name": "stdout",
     "output_type": "stream",
     "text": [
      "Enetr your email address : bhalkeprem.456@gmail.com\n",
      "Enetr your One-time-password --> 7658\n",
      "YOUR ACCOUNT SUCCESSFULLY VERIFIED\n"
     ]
    }
   ],
   "source": [
    "email = smtplib.SMTP('smtp.gmail.com',587)\n",
    "email.starttls()\n",
    "email.login(\"20951A6634@iare.ac.in\",\"qumy cakd hyod qvdf\")\n",
    "id = input(\"Enetr your email address : \")\n",
    "email.sendmail('20951A6634@iare.ac.in',id,message)\n",
    "x = input(\"Enetr your One-time-password --> \")\n",
    "if x==val:\n",
    "    print(\"YOUR ACCOUNT SUCCESSFULLY VERIFIED\")\n",
    "else:\n",
    "    print(\"PLEASE TRY AGAIN\")\n",
    "    "
   ]
  },
  {
   "cell_type": "code",
   "execution_count": null,
   "id": "354d6e2c",
   "metadata": {},
   "outputs": [],
   "source": []
  }
 ],
 "metadata": {
  "kernelspec": {
   "display_name": "Python 3 (ipykernel)",
   "language": "python",
   "name": "python3"
  },
  "language_info": {
   "codemirror_mode": {
    "name": "ipython",
    "version": 3
   },
   "file_extension": ".py",
   "mimetype": "text/x-python",
   "name": "python",
   "nbconvert_exporter": "python",
   "pygments_lexer": "ipython3",
   "version": "3.9.13"
  }
 },
 "nbformat": 4,
 "nbformat_minor": 5
}
