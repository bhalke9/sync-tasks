{
 "cells": [
  {
   "cell_type": "code",
   "execution_count": 5,
   "id": "6fe66a56",
   "metadata": {},
   "outputs": [],
   "source": [
    "#importing required libraries\n",
    "import pyshorteners"
   ]
  },
  {
   "cell_type": "code",
   "execution_count": 6,
   "id": "c9c231ce",
   "metadata": {},
   "outputs": [
    {
     "name": "stdout",
     "output_type": "stream",
     "text": [
      "Enter the url to shorten :https://raw.githubusercontent.com/AdiPersonalWorks/Random/master/student_scores%20-%20student_scores.csv\n"
     ]
    }
   ],
   "source": [
    "#taking url input\n",
    "\n",
    "long_url = input(\"Enter the url to shorten :\")"
   ]
  },
  {
   "cell_type": "code",
   "execution_count": null,
   "id": "3cfd842f",
   "metadata": {},
   "outputs": [],
   "source": [
    "#TinyURl Shortening the url\n",
    "type_tiny = pyshorteners.Shortener()\n",
    "short_url = type_tiny.tinyurl.short(long_url)\n",
    "print(\"The Shortened URL is : \" + short_url)\n"
   ]
  },
  {
   "cell_type": "code",
   "execution_count": 7,
   "id": "97a49a9f",
   "metadata": {},
   "outputs": [
    {
     "name": "stdout",
     "output_type": "stream",
     "text": [
      "The shortened url is :https://bit.ly/3ZXDDxG\n"
     ]
    }
   ],
   "source": [
    "#Bitly shortener service\n",
    "type_bitly = pyshorteners.Shortener(api_key='0d7cc9a8766350c174af284a5944b1a16f20cd3d')\n",
    "short_url = type_bitly.bitly.short(long_url)\n",
    "print(\"The shortened url is :\" + short_url)"
   ]
  },
  {
   "cell_type": "code",
   "execution_count": null,
   "id": "e77610de",
   "metadata": {},
   "outputs": [],
   "source": []
  }
 ],
 "metadata": {
  "kernelspec": {
   "display_name": "Python 3 (ipykernel)",
   "language": "python",
   "name": "python3"
  },
  "language_info": {
   "codemirror_mode": {
    "name": "ipython",
    "version": 3
   },
   "file_extension": ".py",
   "mimetype": "text/x-python",
   "name": "python",
   "nbconvert_exporter": "python",
   "pygments_lexer": "ipython3",
   "version": "3.9.13"
  }
 },
 "nbformat": 4,
 "nbformat_minor": 5
}
